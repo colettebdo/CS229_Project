{
 "cells": [
  {
   "cell_type": "markdown",
   "metadata": {},
   "source": [
    "# Training and Evaluation"
   ]
  },
  {
   "cell_type": "code",
   "execution_count": 30,
   "metadata": {},
   "outputs": [
    {
     "name": "stdout",
     "output_type": "stream",
     "text": [
      "The autoreload extension is already loaded. To reload it, use:\n",
      "  %reload_ext autoreload\n"
     ]
    }
   ],
   "source": [
    "import cv2 as cv\n",
    "import numpy as np\n",
    "import torch\n",
    "\n",
    "from models.baseline_average import BaselineAverageModel\n",
    "from models.convolved_average import ConvolvedAverageModel\n",
    "from reconstruct import nparray_to_mp4, mp4_to_nparray\n",
    "from score import calculate_mse\n",
    "\n",
    "%load_ext autoreload\n",
    "%autoreload 2"
   ]
  },
  {
   "cell_type": "code",
   "execution_count": 19,
   "metadata": {},
   "outputs": [
    {
     "data": {
      "text/plain": [
       "True"
      ]
     },
     "execution_count": 19,
     "metadata": {},
     "output_type": "execute_result"
    }
   ],
   "source": [
    "IN_HEIGHT = 2160\n",
    "IN_WIDTH = 1920\n",
    "OUT_HEIGHT = 2160\n",
    "OUT_WIDTH = 3840\n",
    "\n",
    "torch.cuda.is_available()"
   ]
  },
  {
   "cell_type": "code",
   "execution_count": 60,
   "metadata": {},
   "outputs": [],
   "source": [
    "# input_path = \"data/Seconds_That_Count-checkerboard.mov\"\n",
    "# output_path_cam = \"data/Seconds_That_Count-cvavg.mov\"\n",
    "# output_path_bavg = \"data/Seconds_That_Count-bavg.mov\"\n",
    "# native_path = \"data\\Seconds_That_Count-native.mov\"\n",
    "\n",
    "# input_path = \"data\\Lifting_Off-checkerboard.mov\"\n",
    "# output_path_cam = \"data/Lifting_Off-cvavg.mov\"\n",
    "# output_path_bavg = \"data/Lifting_Off-bavg.mov\"\n",
    "# native_path = \"data\\Lifting_Off-native.mov\"\n",
    "\n",
    "# input_path = \"data\\Moment+of+Intensity-checkerboard.mov\"\n",
    "# output_path_cam = \"data/Moment+of+Intensity-cvavg.mov\"\n",
    "# output_path_bavg = \"data/Moment+of+Intensity-bavg.mov\"\n",
    "# native_path = \"data\\Moment+of+Intensity-native.mov\"\n",
    "\n",
    "input_path = \"data\\LifeUntouched_P3_4K_PQ_XQ-checkerboard.mov\"\n",
    "output_path_cam = \"data/LifeUntouched_P3_4K_PQ_XQ-cvavg.mov\"\n",
    "output_path_bavg = \"data/LifeUntouched_P3_4K_PQ_XQ-bavg.mov\"\n",
    "native_path = \"data\\LifeUntouched_P3_4K_PQ_XQ-native.mov\""
   ]
  },
  {
   "cell_type": "code",
   "execution_count": 61,
   "metadata": {},
   "outputs": [],
   "source": [
    "# Instantiate model\n",
    "cavg_model = ConvolvedAverageModel(in_shape=(IN_HEIGHT, IN_WIDTH), out_shape=(OUT_HEIGHT, OUT_WIDTH))"
   ]
  },
  {
   "cell_type": "code",
   "execution_count": 62,
   "metadata": {},
   "outputs": [
    {
     "name": "stdout",
     "output_type": "stream",
     "text": [
      "Upscaled video saved to data/LifeUntouched_P3_4K_PQ_XQ-cvavg.mov\n"
     ]
    }
   ],
   "source": [
    "cavg_model(input_path, output_path_cam)"
   ]
  },
  {
   "cell_type": "code",
   "execution_count": 63,
   "metadata": {},
   "outputs": [],
   "source": [
    "bavg_model = BaselineAverageModel(in_shape=(IN_HEIGHT, IN_WIDTH), out_shape=(OUT_HEIGHT, OUT_WIDTH))"
   ]
  },
  {
   "cell_type": "code",
   "execution_count": 64,
   "metadata": {},
   "outputs": [
    {
     "name": "stdout",
     "output_type": "stream",
     "text": [
      "Finished processing video.\n"
     ]
    }
   ],
   "source": [
    "bavg_model(input_path, output_path_bavg)"
   ]
  },
  {
   "cell_type": "code",
   "execution_count": null,
   "metadata": {},
   "outputs": [
    {
     "data": {
      "text/plain": [
       "np.float32(0.0)"
      ]
     },
     "execution_count": 67,
     "metadata": {},
     "output_type": "execute_result"
    }
   ],
   "source": [
    "# evaluate\n",
    "calculate_mse(native_path, output_path_bavg)\n"
   ]
  },
  {
   "cell_type": "code",
   "execution_count": 66,
   "metadata": {},
   "outputs": [
    {
     "data": {
      "text/plain": [
       "np.float32(528975800.0)"
      ]
     },
     "execution_count": 66,
     "metadata": {},
     "output_type": "execute_result"
    }
   ],
   "source": [
    "calculate_mse(native_path, output_path_cam)\n"
   ]
  }
 ],
 "metadata": {
  "kernelspec": {
   "display_name": "cs229",
   "language": "python",
   "name": "python3"
  },
  "language_info": {
   "codemirror_mode": {
    "name": "ipython",
    "version": 3
   },
   "file_extension": ".py",
   "mimetype": "text/x-python",
   "name": "python",
   "nbconvert_exporter": "python",
   "pygments_lexer": "ipython3",
   "version": "3.9.21"
  }
 },
 "nbformat": 4,
 "nbformat_minor": 2
}
